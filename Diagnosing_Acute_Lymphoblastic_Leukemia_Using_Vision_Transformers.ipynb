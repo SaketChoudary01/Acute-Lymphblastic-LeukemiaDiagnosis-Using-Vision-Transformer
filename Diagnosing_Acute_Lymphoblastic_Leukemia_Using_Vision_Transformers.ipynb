{
  "nbformat": 4,
  "nbformat_minor": 0,
  "metadata": {
    "colab": {
      "provenance": [],
      "gpuType": "T4"
    },
    "kernelspec": {
      "name": "python3",
      "display_name": "Python 3"
    },
    "language_info": {
      "name": "python"
    },
    "accelerator": "GPU"
  },
  "cells": [
    {
      "cell_type": "markdown",
      "source": [
        "# **Diagnosing Acute Lymphoblastic Leukemia Using Vision Transformers**\n",
        "(Capstone Project- Fall Sem 2024)\n",
        "\n",
        "We have worked on developing an automated system for diagnosing acute lymphoblastic leukemia (ALL) using images of Peripheral Blood Smear (PBS):\n",
        "\n",
        "### **Purpose of the Model:**\n",
        "Our goal is to classify PBS images into Benign (non-cancerous) or one of the three malignant subtypes of ALL:\n",
        "- Early Pre-B ALL\n",
        "- Pre-B ALL\n",
        "- Pro-B ALL\n",
        "\n",
        "By achieving this, we aim to eliminate the need for invasive, expensive, and time-consuming diagnostic tests typically required for definitive ALL diagnosis. This offers several significant advantages:\n",
        "- Faster initial screening\n",
        "- Reduced dependency on highly skilled pathologists\n",
        "- Improved diagnostic accuracy by reducing human error\n",
        "\n",
        "Our work is driven by the aspiration to make ALL diagnosis more efficient and accessible, ultimately improving patient outcomes and streamlining the diagnostic process.\n",
        "\n",
        "**Contributed by**,\n",
        "* Lakshmipathi Rao Kocherlakota 21BCE8552\n",
        "* Mahatir Ahmed Tusher 21BCE8971\n",
        "* Sree Nikhil Velicheti 21BCE7775\n",
        "* Saket Choudary Kongara  21BCE7918\n",
        "\n"
      ],
      "metadata": {
        "id": "mVWvdmUnym1Q"
      }
    },
    {
      "cell_type": "markdown",
      "source": [
        "### Mounting the Dataset"
      ],
      "metadata": {
        "id": "g8oP07NI30Re"
      }
    },
    {
      "cell_type": "code",
      "execution_count": null,
      "metadata": {
        "colab": {
          "base_uri": "https://localhost:8080/"
        },
        "id": "iFjtQVInZD_9",
        "outputId": "a18b07ff-cf92-464e-fb39-b79eef669ded"
      },
      "outputs": [
        {
          "output_type": "stream",
          "name": "stdout",
          "text": [
            "Mounted at /content/drive\n"
          ]
        }
      ],
      "source": [
        "from google.colab import drive\n",
        "drive.mount('/content/drive')"
      ]
    },
    {
      "cell_type": "markdown",
      "source": [
        "dataSet = '/content/drive/MyDrive/MLProject/Original'"
      ],
      "metadata": {
        "id": "eXLHTa1rZ-wp"
      }
    },
    {
      "cell_type": "markdown",
      "source": [
        "\n"
      ],
      "metadata": {
        "id": "IEREH_vPcSQD"
      }
    },
    {
      "cell_type": "code",
      "source": [
        "torch.save(model.state_dict(), basePath)"
      ],
      "metadata": {
        "id": "429m8kOPcXik",
        "collapsed": true
      },
      "execution_count": null,
      "outputs": []
    },
    {
      "cell_type": "code",
      "source": [
        "\n",
        "\n",
        "from google.colab import drive\n",
        "drive.mount('/content/drive')\n"
      ],
      "metadata": {
        "colab": {
          "base_uri": "https://localhost:8080/"
        },
        "id": "AgS9cbYHcbRb",
        "outputId": "f7bf9d6f-efeb-400b-f1a0-349861724b64"
      },
      "execution_count": null,
      "outputs": [
        {
          "output_type": "stream",
          "name": "stdout",
          "text": [
            "Mounted at /content/drive\n"
          ]
        }
      ]
    },
    {
      "cell_type": "code",
      "source": [
        "dataSet = '/content/drive/MyDrive/MLProject/Original'"
      ],
      "metadata": {
        "id": "JeTXyxNjjFWt"
      },
      "execution_count": null,
      "outputs": []
    },
    {
      "cell_type": "code",
      "source": [
        "import torch\n",
        "import torchvision\n",
        "from torch import nn\n",
        "import os\n",
        "from torchvision import datasets, transforms\n",
        "from torch.utils.data import DataLoader\n",
        "import torch\n",
        "import time\n",
        "import torch\n",
        "import numpy\n",
        "from torch import nn\n",
        "import os\n",
        "from torchvision import datasets, transforms\n",
        "from torch.utils.data import DataLoader\n",
        "from torch.utils.data import SubsetRandomSampler\n",
        "from torch.utils.data import random_split\n",
        "import torch\n",
        "import matplotlib.pyplot as plt\n",
        "import numpy as np\n",
        "import os\n",
        "import torch\n",
        "import random\n",
        "import zipfile\n",
        "from pathlib import Path\n",
        "import requests"
      ],
      "metadata": {
        "id": "Ynas1YI5jICx"
      },
      "execution_count": null,
      "outputs": []
    },
    {
      "cell_type": "code",
      "source": [
        "def computeAccu(model,dataLoader,device):\n",
        "  model.eval()\n",
        "  with torch.no_grad():\n",
        "    correctPred = 0\n",
        "    totalPred = 0\n",
        "\n",
        "    for features,targets in dataLoader:\n",
        "      features = features.to(device)\n",
        "      targets  = targets.to(device)\n",
        "\n",
        "      logits   = model(features)\n",
        "      _ , predLabel = torch.max(logits,1)\n",
        "      totalPred += targets.size(0)\n",
        "      correctPred += (predLabel == targets).sum()\n",
        "\n",
        "  return correctPred.float()/totalPred * 100\n",
        "def setAllSeeds(seed):\n",
        "  os.environ['MY_GLOBAL_SEED'] = str(seed)\n",
        "  random.seed(seed)\n",
        "  np.random.seed(seed)\n",
        "  torch.manual_seed(seed)\n",
        "  torch.cuda.manual_seed_all(seed)"
      ],
      "metadata": {
        "id": "g43Jw7Jzjt0u"
      },
      "execution_count": null,
      "outputs": []
    },
    {
      "cell_type": "code",
      "source": [
        "def getViT(seed,classNames,DEVICE):\n",
        "  setAllSeeds(seed)\n",
        "  vitWeights = torchvision.models.ViT_B_16_Weights.DEFAULT\n",
        "  vitTransforms = vitWeights.transforms()\n",
        "  vit = torchvision.models.vit_b_16(weights=vitWeights).to(DEVICE)\n",
        "  for param in vit.parameters():\n",
        "    param.requires_grad = False\n",
        "  vit.heads = nn.Linear(in_features=768, out_features=classNames).to(DEVICE)\n",
        "  return vit,vitTransforms"
      ],
      "metadata": {
        "id": "-5_Nthf-kQ6p"
      },
      "execution_count": null,
      "outputs": []
    },
    {
      "cell_type": "code",
      "source": [
        "DEVICE = torch.device('cuda:0' if torch.cuda.is_available() else 'cpu')\n",
        "model, transformers = getViT(42,4, DEVICE)"
      ],
      "metadata": {
        "colab": {
          "base_uri": "https://localhost:8080/"
        },
        "id": "mPKM93l9kU70",
        "outputId": "41004e8a-84d0-4f1f-d4c5-04288314e02d"
      },
      "execution_count": null,
      "outputs": [
        {
          "output_type": "stream",
          "name": "stderr",
          "text": [
            "Downloading: \"https://download.pytorch.org/models/vit_b_16-c867db91.pth\" to /root/.cache/torch/hub/checkpoints/vit_b_16-c867db91.pth\n",
            "100%|██████████| 330M/330M [00:06<00:00, 57.1MB/s]\n"
          ]
        }
      ]
    },
    {
      "cell_type": "code",
      "source": [
        "trainDir = '/kaggle/working/output/train/'\n",
        "testDir  = '/kaggle/working/output/test/'\n",
        "valDir   = '/kaggle/working/output/val'\n",
        "batchSize = 32\n",
        "randomSeed = 42\n",
        "numEpochs = 20"
      ],
      "metadata": {
        "id": "7UsCEIorkdti"
      },
      "execution_count": null,
      "outputs": []
    },
    {
      "cell_type": "code",
      "source": [
        "\n",
        "mean = [0.5, 0.5, 0.5]\n",
        "std = [0.5, 0.5, 0.5]\n",
        "\n",
        "train_transforms = transforms.Compose([\n",
        "                                       transforms.Resize((224,224)),\n",
        "                                      # transforms.RandomHorizontalFlip(),\n",
        "                                       transforms.RandomRotation(10),\n",
        "                                       transforms.Resize((224,224)),\n",
        "                                       transforms.ToTensor(),\n",
        "                                       transforms.Normalize(torch.Tensor(mean), torch.Tensor(std))])"
      ],
      "metadata": {
        "id": "60P0_1lskgo8"
      },
      "execution_count": null,
      "outputs": []
    },
    {
      "cell_type": "code",
      "source": [
        "dataset_path = '/content/drive/MyDrive/MLProject/Original'"
      ],
      "metadata": {
        "id": "eVsRPEq3k1AB"
      },
      "execution_count": null,
      "outputs": []
    },
    {
      "cell_type": "code",
      "source": [
        "data_set = torchvision.datasets.ImageFolder(root= dataset_path, transform= train_transforms)"
      ],
      "metadata": {
        "id": "0NjwluWsktZu"
      },
      "execution_count": null,
      "outputs": []
    },
    {
      "cell_type": "code",
      "source": [
        "\n",
        "valid_size= 0.2 # taking 20% data as out validation set\n",
        "num_train = len(data_set)\n",
        "indices = list(range(num_train))\n",
        "print('Total number of our train data: ',len(indices))\n",
        "np.random.shuffle(indices)\n",
        "split = int(np.floor(valid_size * num_train))\n",
        "#print(split)\n",
        "train_idx, valid_idx = indices[split:], indices[:split]\n",
        "print('After splitting train data: ',len(train_idx))\n",
        "print('After splitting validation data: ',len(valid_idx))"
      ],
      "metadata": {
        "colab": {
          "base_uri": "https://localhost:8080/"
        },
        "id": "ELQRm0ralFZ-",
        "outputId": "b0fb79ab-8e1e-412e-ad02-c25302e0794e"
      },
      "execution_count": null,
      "outputs": [
        {
          "output_type": "stream",
          "name": "stdout",
          "text": [
            "Total number of our train data:  3256\n",
            "After splitting train data:  2605\n",
            "After splitting validation data:  651\n"
          ]
        }
      ]
    },
    {
      "cell_type": "code",
      "source": [
        "num_workers = 0\n",
        "batch_size = 32\n",
        "\n",
        "# obtain training indices that will be used for validation\n",
        "valid_size= 0.2 # taking 20% data as out validation set\n",
        "num_train = len(data_set)\n",
        "indices = list(range(num_train))\n",
        "np.random.shuffle(indices)\n",
        "split = int(np.floor(valid_size * num_train))\n",
        "train_idx, valid_idx = indices[split:], indices[:split]\n",
        "\n",
        "print('After splitting train data: ',len(train_idx))\n",
        "print('After splitting validation data: ',len(valid_idx))\n",
        "\n",
        "# define samplers for obtaining training and validation batches\n",
        "train_sampler = SubsetRandomSampler(train_idx)\n",
        "valid_sampler = SubsetRandomSampler(valid_idx)\n",
        "\n",
        "# prepare data loaders (combine dataset and sampler)\n",
        "train_loader = torch.utils.data.DataLoader(data_set, batch_size=batch_size,\n",
        "    sampler=train_sampler, num_workers=num_workers)\n",
        "valid_loader = torch.utils.data.DataLoader(data_set, batch_size=batch_size,\n",
        "    sampler=valid_sampler, num_workers=num_workers)\n",
        "# image classes\n",
        "classes = ['benign', 'early', 'pre', 'pro']\n"
      ],
      "metadata": {
        "colab": {
          "base_uri": "https://localhost:8080/"
        },
        "id": "ktSpuG59lIuW",
        "outputId": "7d2b5d69-5dce-4e5c-ee82-fc065cf65aa2"
      },
      "execution_count": null,
      "outputs": [
        {
          "output_type": "stream",
          "name": "stdout",
          "text": [
            "After splitting train data:  2605\n",
            "After splitting validation data:  651\n"
          ]
        }
      ]
    },
    {
      "cell_type": "code",
      "source": [
        "import matplotlib.pyplot as plt\n",
        "\n",
        "# Counts of images in each set (example values)\n",
        "dataset_split_counts = {\n",
        "    'Training Set': 2280,   # 70% of 3256\n",
        "    'Validation Set': 488,  # 15% of 3256\n",
        "    'Test Set': 488         # 15% of 3256\n",
        "}\n",
        "\n",
        "# Extract keys (set names) and values (image counts)\n",
        "sets = list(dataset_split_counts.keys())\n",
        "counts = list(dataset_split_counts.values())\n",
        "\n",
        "# Plot the bar chart\n",
        "plt.figure(figsize=(8, 6))\n",
        "plt.bar(sets, counts, color=['skyblue', 'lightgreen', 'salmon'])\n",
        "\n",
        "# Add titles and labels\n",
        "plt.title('Dataset Distribution', fontsize=16)\n",
        "plt.xlabel('Dataset Splits', fontsize=12)\n",
        "plt.ylabel('Number of Images', fontsize=12)\n",
        "plt.ylim(0, max(counts) + 200)  # Add some space above the tallest bar\n",
        "\n",
        "# Add value annotations on top of the bars\n",
        "for i, count in enumerate(counts):\n",
        "    plt.text(i, count + 50, str(count), ha='center', fontsize=12)\n",
        "\n",
        "# Show the chart\n",
        "plt.tight_layout()\n",
        "plt.show()\n"
      ],
      "metadata": {
        "colab": {
          "base_uri": "https://localhost:8080/",
          "height": 607
        },
        "id": "WGb3E05AasJQ",
        "outputId": "ca821d21-b9f5-4e21-e897-4b2310f2db6c"
      },
      "execution_count": null,
      "outputs": [
        {
          "output_type": "display_data",
          "data": {
            "text/plain": [
              "<Figure size 800x600 with 1 Axes>"
            ],
            "image/png": "[encoded data removed]"
          },
          "metadata": {}
        }
      ]
    },
    {
      "cell_type": "code",
      "source": [
        "for images, labels in train_loader:\n",
        "    print('Image batch dimensions:', images.shape)\n",
        "    print('Image label dimensions:', labels.shape)\n",
        "    print('Class labels of 10 examples:', labels[:10])\n",
        "    break"
      ],
      "metadata": {
        "colab": {
          "base_uri": "https://localhost:8080/"
        },
        "id": "OAdv38kkleTv",
        "outputId": "ba11d39c-049f-4a76-a84b-d0b1db209e82"
      },
      "execution_count": null,
      "outputs": [
        {
          "output_type": "stream",
          "name": "stdout",
          "text": [
            "Image batch dimensions: torch.Size([32, 3, 224, 224])\n",
            "Image label dimensions: torch.Size([32])\n",
            "Class labels of 10 examples: tensor([1, 2, 3, 3, 2, 1, 2, 3, 0, 1])\n"
          ]
        }
      ]
    },
    {
      "cell_type": "code",
      "source": [
        "def modelTrainer(model1, numEpochs, trainLoader,testLoader,valLoader, opt, device,scheduler=None,schedulerOn='validAcc'):\n",
        "  startTime = time.time()\n",
        "  miniBatchLoss = []\n",
        "  trainAccLoss = []\n",
        "  valAccLoss = []\n",
        "  valPlotAccLoss =[]\n",
        "  for e in range(numEpochs):\n",
        "    model1.train()\n",
        "    for batchIdx, (features,targets) in enumerate(trainLoader):\n",
        "      features = features.to(device)\n",
        "      targets  = targets.to(device)\n",
        "\n",
        "      logits = model1(features)\n",
        "      # _, predLabel = torch.max(logits,1)\n",
        "\n",
        "      cost = torch.nn.functional.cross_entropy(logits,targets)\n",
        "      opt.zero_grad()\n",
        "      cost.backward()\n",
        "      opt.step()\n",
        "      miniBatchLoss.append(cost.item())\n",
        "      if ( not (batchIdx%50) ):\n",
        "        print('Epoch:%03d/%03d | Batch:%03d/%03d |  Cost:%.4f' %(e+1, numEpochs, batchIdx, len(trainLoader), cost.item()))\n",
        "    with torch.no_grad():\n",
        "      print('Epoch:%03d/%03d |' %(e+1, numEpochs))\n",
        "      trainLoss = computeAccu(model1, trainLoader,device)\n",
        "      valLoss   = computeAccu(model1, valLoader  ,device)\n",
        "      valAccLoss.append(valLoss)\n",
        "      trainAccLoss.append(trainLoss.cpu().numpy())\n",
        "\n",
        "      print(f'Train Acc {trainLoss :.4f}%')\n",
        "      print(f'Val Acc   {valLoss:.4f}%')\n",
        "      print(f'Time Taken: {((time.time()-startTime)/60):.2f} min')\n",
        "      if(scheduler is not None):\n",
        "        if(schedulerOn == 'validAcc'):\n",
        "          scheduler.step(valAccLoss[-1])\n",
        "        elif(schedulerOn == 'miniBatchLoss'):\n",
        "          scheduler.step(miniBatchLoss[-1])\n",
        "        else:\n",
        "          raise ValueError(f'invalid choice for SchedulerOn {schedulerOn}')\n",
        "      # valAccLoss[-1] = valLoss.detach().numpy()\n",
        "      valPlotAccLoss.append(valLoss.cpu().numpy())\n",
        "#     break\n",
        "    if(not((e+1)%3)):\n",
        "        torch.save(model1.state_dict(), f'model{e+1}.pt')\n",
        "        torch.save(opt.state_dict(), f'optimizer{e+1}.pt')\n",
        "        torch.save(scheduler.state_dict(), f'schd{e+1}.pt')\n",
        "  testLoss = computeAccu(model1, testLoader, device)\n",
        "  print(f'Test Acc   {testLoss:.4f}%')\n",
        "  print(f'Total Time Taken: {((time.time()-startTime)/60):.2f} min')\n",
        "\n",
        "  return miniBatchLoss, trainAccLoss, valPlotAccLoss"
      ],
      "metadata": {
        "id": "J4A9R4eglk7A"
      },
      "execution_count": null,
      "outputs": []
    },
    {
      "cell_type": "code",
      "source": [
        "model = model.to(DEVICE)\n",
        "\n",
        "optimizer = torch.optim.SGD(model.parameters(), momentum=0.9,lr=0.1)\n",
        "scheduler = torch.optim.lr_scheduler.ReduceLROnPlateau(optimizer,\n",
        "                                                       factor=0.1,\n",
        "                                                       mode='max',\n",
        "                                                       verbose=True)"
      ],
      "metadata": {
        "colab": {
          "base_uri": "https://localhost:8080/"
        },
        "id": "1F46kAtvln_6",
        "outputId": "dc842dea-7cb1-45ce-a90b-629c4238ab78"
      },
      "execution_count": null,
      "outputs": [
        {
          "output_type": "stream",
          "name": "stderr",
          "text": [
            "/usr/local/lib/python3.10/dist-packages/torch/optim/lr_scheduler.py:62: UserWarning: The verbose parameter is deprecated. Please use get_last_lr() to access the learning rate.\n",
            "  warnings.warn(\n"
          ]
        }
      ]
    },
    {
      "cell_type": "code",
      "source": [
        "setAllSeeds(42)\n",
        "miniBatchLossList, trainAccList, validAccList = modelTrainer(\n",
        "    model1=model,\n",
        "    numEpochs=numEpochs,\n",
        "    trainLoader=train_loader,\n",
        "    valLoader=valid_loader,\n",
        "    testLoader=valid_loader,\n",
        "    opt=optimizer,\n",
        "    device=DEVICE,\n",
        "    scheduler=scheduler,\n",
        "    schedulerOn='validAcc')"
      ],
      "metadata": {
        "colab": {
          "base_uri": "https://localhost:8080/"
        },
        "id": "N6-UYEHulrEy",
        "outputId": "806abeab-0533-4a5a-ab0f-372f0ab04419"
      },
      "execution_count": null,
      "outputs": [
        {
          "output_type": "stream",
          "name": "stdout",
          "text": [
            "Epoch:001/020 | Batch:000/082 |  Cost:1.4267\n",
            "Epoch:001/020 | Batch:050/082 |  Cost:0.3533\n",
            "Epoch:001/020 |\n",
            "Train Acc 97.3512%\n",
            "Val Acc   97.6959%\n",
            "Time Taken: 28.61 min\n",
            "Epoch:002/020 | Batch:000/082 |  Cost:0.0253\n",
            "Epoch:002/020 | Batch:050/082 |  Cost:0.1409\n",
            "Epoch:002/020 |\n",
            "Train Acc 98.0806%\n",
            "Val Acc   97.5422%\n",
            "Time Taken: 29.95 min\n",
            "Epoch:003/020 | Batch:000/082 |  Cost:0.1204\n",
            "Epoch:003/020 | Batch:050/082 |  Cost:0.1093\n",
            "Epoch:003/020 |\n",
            "Train Acc 98.1574%\n",
            "Val Acc   98.6175%\n",
            "Time Taken: 31.29 min\n",
            "Epoch:004/020 | Batch:000/082 |  Cost:0.1377\n",
            "Epoch:004/020 | Batch:050/082 |  Cost:0.0024\n",
            "Epoch:004/020 |\n",
            "Train Acc 98.7332%\n",
            "Val Acc   98.3103%\n",
            "Time Taken: 32.64 min\n",
            "Epoch:005/020 | Batch:000/082 |  Cost:0.0029\n",
            "Epoch:005/020 | Batch:050/082 |  Cost:0.0000\n",
            "Epoch:005/020 |\n",
            "Train Acc 99.0787%\n",
            "Val Acc   99.0783%\n",
            "Time Taken: 33.97 min\n",
            "Epoch:006/020 | Batch:000/082 |  Cost:0.0044\n",
            "Epoch:006/020 | Batch:050/082 |  Cost:0.0000\n",
            "Epoch:006/020 |\n",
            "Train Acc 99.0403%\n",
            "Val Acc   99.3856%\n",
            "Time Taken: 35.30 min\n",
            "Epoch:007/020 | Batch:000/082 |  Cost:0.1629\n",
            "Epoch:007/020 | Batch:050/082 |  Cost:0.0002\n",
            "Epoch:007/020 |\n",
            "Train Acc 99.3474%\n",
            "Val Acc   99.0783%\n",
            "Time Taken: 36.65 min\n",
            "Epoch:008/020 | Batch:000/082 |  Cost:0.1338\n",
            "Epoch:008/020 | Batch:050/082 |  Cost:0.0099\n",
            "Epoch:008/020 |\n",
            "Train Acc 99.3858%\n",
            "Val Acc   99.2319%\n",
            "Time Taken: 37.99 min\n",
            "Epoch:009/020 | Batch:000/082 |  Cost:0.0697\n",
            "Epoch:009/020 | Batch:050/082 |  Cost:0.0035\n",
            "Epoch:009/020 |\n",
            "Train Acc 99.0019%\n",
            "Val Acc   99.0783%\n",
            "Time Taken: 39.31 min\n",
            "Epoch:010/020 | Batch:000/082 |  Cost:0.0000\n",
            "Epoch:010/020 | Batch:050/082 |  Cost:0.0013\n",
            "Epoch:010/020 |\n",
            "Train Acc 99.4626%\n",
            "Val Acc   99.3856%\n",
            "Time Taken: 40.67 min\n",
            "Epoch:011/020 | Batch:000/082 |  Cost:0.0018\n",
            "Epoch:011/020 | Batch:050/082 |  Cost:0.2119\n",
            "Epoch:011/020 |\n",
            "Train Acc 98.8100%\n",
            "Val Acc   99.5392%\n",
            "Time Taken: 42.00 min\n",
            "Epoch:012/020 | Batch:000/082 |  Cost:0.0145\n",
            "Epoch:012/020 | Batch:050/082 |  Cost:0.0079\n",
            "Epoch:012/020 |\n",
            "Train Acc 98.1958%\n",
            "Val Acc   98.4639%\n",
            "Time Taken: 43.33 min\n",
            "Epoch:013/020 | Batch:000/082 |  Cost:0.0020\n",
            "Epoch:013/020 | Batch:050/082 |  Cost:0.0000\n",
            "Epoch:013/020 |\n",
            "Train Acc 98.6948%\n",
            "Val Acc   98.1567%\n",
            "Time Taken: 44.68 min\n",
            "Epoch:014/020 | Batch:000/082 |  Cost:0.0502\n",
            "Epoch:014/020 | Batch:050/082 |  Cost:0.0000\n",
            "Epoch:014/020 |\n",
            "Train Acc 98.4645%\n",
            "Val Acc   98.1567%\n",
            "Time Taken: 46.01 min\n",
            "Epoch:015/020 | Batch:000/082 |  Cost:0.0367\n",
            "Epoch:015/020 | Batch:050/082 |  Cost:0.0015\n",
            "Epoch:015/020 |\n",
            "Train Acc 97.9271%\n",
            "Val Acc   98.9247%\n",
            "Time Taken: 47.34 min\n",
            "Epoch:016/020 | Batch:000/082 |  Cost:0.1522\n",
            "Epoch:016/020 | Batch:050/082 |  Cost:0.0000\n",
            "Epoch:016/020 |\n",
            "Train Acc 99.4242%\n",
            "Val Acc   99.5392%\n",
            "Time Taken: 48.70 min\n",
            "Epoch:017/020 | Batch:000/082 |  Cost:0.0003\n",
            "Epoch:017/020 | Batch:050/082 |  Cost:0.0167\n",
            "Epoch:017/020 |\n",
            "Train Acc 98.8484%\n",
            "Val Acc   99.2319%\n",
            "Time Taken: 50.03 min\n",
            "Epoch:018/020 | Batch:000/082 |  Cost:0.0290\n",
            "Epoch:018/020 | Batch:050/082 |  Cost:0.0000\n",
            "Epoch:018/020 |\n",
            "Train Acc 99.7313%\n",
            "Val Acc   98.9247%\n",
            "Time Taken: 51.37 min\n",
            "Epoch:019/020 | Batch:000/082 |  Cost:0.0028\n",
            "Epoch:019/020 | Batch:050/082 |  Cost:0.0014\n",
            "Epoch:019/020 |\n",
            "Train Acc 99.7313%\n",
            "Val Acc   99.5392%\n",
            "Time Taken: 52.72 min\n",
            "Epoch:020/020 | Batch:000/082 |  Cost:0.0001\n",
            "Epoch:020/020 | Batch:050/082 |  Cost:0.0030\n",
            "Epoch:020/020 |\n",
            "Train Acc 98.8100%\n",
            "Val Acc   98.1567%\n",
            "Time Taken: 54.05 min\n",
            "Test Acc   98.6175%\n",
            "Total Time Taken: 54.17 min\n"
          ]
        }
      ]
    },
    {
      "cell_type": "code",
      "source": [
        "def plotTrainingLoss(miniBatchLoss,numEpoch,iterPerEpoch,resultsDir=None,avgIter = 100):\n",
        "  plt.figure()\n",
        "  ax1 = plt.subplot(1,1,1)\n",
        "  ax1.plot(range(len(miniBatchLoss)), miniBatchLoss, label='Mini Batch Loss')\n",
        "  if len(miniBatchLoss) > 1000:\n",
        "    ax1.set_ylim([0,np.max(miniBatchLoss[1000:])*1.5])\n",
        "  ax1.set_xlabel('Iterations')\n",
        "  ax1.set_ylabel('Loss')\n",
        "  ax1.plot(np.convolve(miniBatchLoss,np.ones(avgIter,)/avgIter,mode='valid'),label='Running Avg')\n",
        "  ax1.legend()\n",
        "\n",
        "  ax2 = ax1.twiny()\n",
        "  newLabel = list(range(numEpoch+1))\n",
        "  newPos = [e*iterPerEpoch for e in newLabel]\n",
        "  # ax2.set_xticks(newpos[::10])\n",
        "  # ax2.set_xticklabels(newlabel[::10])\n",
        "\n",
        "  ax2.set_xticks(newPos[::10])\n",
        "  ax2.set_xticklabels(newLabel[::10])\n",
        "  ax2.spines['bottom'].set_position(('outward',45))\n",
        "  ax2.set_xlabel(\"Epochs\")\n",
        "  ax2.set_xlim(ax1.get_xlim())\n",
        "\n",
        "  plt.tight_layout()\n",
        "\n",
        "  if(resultsDir is not None):\n",
        "    imagePath = os.path.join(resultsDir, 'plotTrainingLoss.pdf')\n",
        "    plt.savefig(imagePath)\n",
        "\n",
        "def plotAccuracy(trainAccList, valAccList, resultsDir = None):\n",
        "  numEpoch = len(trainAccList)\n",
        "  plt.plot(np.arange(1,numEpoch+1),trainAccList,label='Training')\n",
        "  plt.plot(np.arange(1,numEpoch+1),valAccList,label='Validation')\n",
        "  plt.xlabel('Epoch')\n",
        "  plt.ylabel('Accuracy')\n",
        "  plt.legend()\n",
        "\n",
        "  plt.tight_layout()\n",
        "\n",
        "\n",
        "  if(resultsDir is not None):\n",
        "    imagePath = os.path.join(resultsDir, 'plotAccTrainingValidation.pdf')\n",
        "    plt.savefig(imagePath)\n",
        "\n",
        "def show_examples(model, dataLoader):\n",
        "  for batchIdx, (features, targets) in enumerate(dataLoader):\n",
        "    with torch.no_grad():\n",
        "      features = features.to(torch.device('cpu'))\n",
        "      targets  = targets.to(torch.device('cpu'))\n",
        "      logits = model(features)\n",
        "      predictions = torch.argmax(logits,dim=1)\n",
        "    break\n",
        "\n",
        "  fig, axes = plt.subplots(nrows=3,ncols=5,sharex=True,sharey=True)\n",
        "  nhwcImage = np.transpose(features,axes = (0,2,3,1))\n",
        "  nhwImage  = np.squeeze(nhwcImage.numpy(), axis=3)\n",
        "\n",
        "  for idx,ax in enumerate(axes.ravel()):\n",
        "    ax.imshow(nhwImage[idx],cmap='binary')\n",
        "    ax.title.set_text(f'P: {predictions[idx]} | T: {targets[idx]}')\n",
        "    ax.axison = False\n",
        "\n",
        "  plt.tight_layout()\n",
        "  plt.show()\n"
      ],
      "metadata": {
        "id": "xPCHfv6uw4BO"
      },
      "execution_count": null,
      "outputs": []
    },
    {
      "cell_type": "code",
      "source": [
        "plotTrainingLoss(miniBatchLoss=miniBatchLossList,\n",
        "                   numEpoch=numEpochs,\n",
        "                   iterPerEpoch=len(train_loader),\n",
        "                   resultsDir=None,\n",
        "                   avgIter=100)    #plotTrainingLoss(miniBatchLoss,numEpoch,iterPerEpoch,resultsDir=None,avgIter = 100)\n",
        "plt.show()\n",
        "plotAccuracy(trainAccList,validAccList)\n",
        "plt.ylim([60,100])\n",
        "plt.show()"
      ],
      "metadata": {
        "colab": {
          "base_uri": "https://localhost:8080/",
          "height": 981
        },
        "id": "bpntWQp8xAUW",
        "outputId": "a6e92d9b-9f2e-4363-d8a3-4632fe85ed4e"
      },
      "execution_count": null,
      "outputs": [
        {
          "output_type": "display_data",
          "data": {
            "text/plain": [
              "<Figure size 640x480 with 2 Axes>"
            ],
            "image/png": "[encoded data removed]"
          },
          "metadata": {}
        },
        {
          "output_type": "display_data",
          "data": {
            "text/plain": [
              "<Figure size 640x480 with 1 Axes>"
            ],
            "image/png": "[encoded data removed]"
          },
          "metadata": {}
        }
      ]
    },
    {
      "cell_type": "code",
      "source": [
        "from sklearn.metrics import precision_score, recall_score, f1_score, confusion_matrix, roc_auc_score\n",
        "import seaborn as sns\n",
        "import matplotlib.pyplot as plt\n",
        "import numpy as np\n",
        "\n",
        "# Initialize placeholders for metrics\n",
        "def validate_model(model, valid_loader, classes, device):\n",
        "    model.eval()\n",
        "    y_true = []\n",
        "    y_pred = []\n",
        "    y_probs = []\n",
        "\n",
        "    with torch.no_grad():\n",
        "        for images, labels in valid_loader:\n",
        "            images, labels = images.to(device), labels.to(device)\n",
        "            outputs = model(images)  # Predicted probabilities\n",
        "            probs = torch.softmax(outputs, dim=1)  # Convert logits to probabilities\n",
        "            _, preds = torch.max(probs, 1)  # Predicted labels\n",
        "\n",
        "            y_true.extend(labels.cpu().numpy())\n",
        "            y_pred.extend(preds.cpu().numpy())\n",
        "            y_probs.extend(probs.cpu().numpy())\n",
        "\n",
        "    # Compute Precision, Recall, F1\n",
        "    precision = precision_score(y_true, y_pred, average='weighted')\n",
        "    recall = recall_score(y_true, y_pred, average='weighted')\n",
        "    f1 = f1_score(y_true, y_pred, average='weighted')\n",
        "\n",
        "    # Compute Confusion Matrix\n",
        "    cm = confusion_matrix(y_true, y_pred)\n",
        "\n",
        "    # Compute ROC-AUC (for multi-class)\n",
        "    y_true_one_hot = np.eye(len(classes))[y_true]  # Convert to one-hot encoding\n",
        "    roc_auc = roc_auc_score(y_true_one_hot, y_probs, multi_class='ovr')\n",
        "\n",
        "    print(f\"Validation Precision: {precision:.4f}\")\n",
        "    print(f\"Validation Recall: {recall:.4f}\")\n",
        "    print(f\"Validation F1 Score: {f1:.4f}\")\n",
        "    print(f\"Validation ROC-AUC: {roc_auc:.4f}\")\n",
        "\n",
        "    # Plot Confusion Matrix\n",
        "    plt.figure(figsize=(8, 6))\n",
        "    sns.heatmap(cm, annot=True, fmt='d', cmap='Blues', xticklabels=classes, yticklabels=classes)\n",
        "    plt.xlabel('Predicted')\n",
        "    plt.ylabel('Actual')\n",
        "    plt.title('Confusion Matrix')\n",
        "    plt.show()\n",
        "\n",
        "    return precision,recall,f1,roc_auc,cm"
      ],
      "metadata": {
        "id": "od3a0cJY-M4z"
      },
      "execution_count": null,
      "outputs": []
    },
    {
      "cell_type": "code",
      "source": [
        "classes = ['BENIGN', 'EARLY', 'PRE', 'PRO']  # Class names from the dataset\n",
        "DEVICE = torch.device('cuda:0' if torch.cuda.is_available() else 'cpu')\n",
        "validate_model(model,valid_loader,classes,DEVICE)"
      ],
      "metadata": {
        "colab": {
          "base_uri": "https://localhost:8080/",
          "height": 772
        },
        "id": "UdrGRUlr-Z5f",
        "outputId": "4d3f21b8-1ebb-44dd-9a1e-d26f87d9e64f"
      },
      "execution_count": null,
      "outputs": [
        {
          "output_type": "stream",
          "name": "stdout",
          "text": [
            "Validation Precision: 0.9840\n",
            "Validation Recall: 0.9831\n",
            "Validation F1 Score: 0.9831\n",
            "Validation ROC-AUC: 0.9995\n"
          ]
        },
        {
          "output_type": "display_data",
          "data": {
            "text/plain": [
              "<Figure size 800x600 with 2 Axes>"
            ],
            "image/png": "[encoded data removed]"
          },
          "metadata": {}
        },
        {
          "output_type": "execute_result",
          "data": {
            "text/plain": [
              "(0.9840464104423495,\n",
              " 0.9831029185867896,\n",
              " 0.9831221512144948,\n",
              " 0.9994674678185821,\n",
              " array([[ 94,   7,   0,   0],\n",
              "        [  0, 186,   0,   0],\n",
              "        [  0,   4, 200,   0],\n",
              "        [  0,   0,   0, 160]]))"
            ]
          },
          "metadata": {},
          "execution_count": 20
        }
      ]
    },
    {
      "cell_type": "markdown",
      "source": [
        "Predictions for an individual image with probabilities"
      ],
      "metadata": {
        "id": "7_UbOLsh-wNw"
      }
    },
    {
      "cell_type": "code",
      "source": [
        "import torch\n",
        "import matplotlib.pyplot as plt\n",
        "import numpy as np\n",
        "from torchvision import transforms\n",
        "from PIL import Image\n",
        "import io\n",
        "import base64\n",
        "\n",
        "\n",
        "def plot_attention_heatmap(image_path, model, device):\n",
        "    # Load and preprocess the image\n",
        "    img = Image.open(image_path).convert(\"RGB\")\n",
        "    img_tensor = img_transform(img).unsqueeze(0).to(device)\n",
        "\n",
        "    # Get attention weights from the ViT model\n",
        "    model.eval()\n",
        "    with torch.no_grad():\n",
        "        output = model(img_tensor)\n",
        "\n",
        "    # Extract the attention maps from ViT model\n",
        "    # The ViT model has a multi-head attention mechanism. We use the attention map of the last layer.\n",
        "    attention_maps = model.blocks[-1].attn.get_attention_map(img_tensor)\n",
        "\n",
        "    # Get the first attention map (assuming the model returns multiple attention maps)\n",
        "    attention_map = attention_maps[0]  # shape: [1, num_heads, 14, 14] (example for ViT)\n",
        "\n",
        "    # Convert to heatmap\n",
        "    attention_map = attention_map.squeeze().cpu().numpy()\n",
        "    attention_map = np.mean(attention_map, axis=0)  # Average across all heads\n",
        "\n",
        "    # Resize to original image size\n",
        "    attention_map_resized = np.resize(attention_map, (224, 224))\n",
        "\n",
        "    # Plot the original image and the heatmap overlay\n",
        "    plt.figure(figsize=(10, 10))\n",
        "    plt.imshow(img)\n",
        "    plt.imshow(attention_map_resized, cmap='jet', alpha=0.5)  # Overlay heatmap with 50% transparency\n",
        "    plt.colorbar()\n",
        "    plt.title(\"Attention Heatmap\")\n",
        "    plt.show()\n",
        "\n",
        "# Example usage:\n",
        "image_path = \"/content/drive/MyDrive/MLProject/Original/Benign/WBC-Benign-003.jpg\"\n",
        "plot_attention_heatmap(image_path, model, device)\n"
      ],
      "metadata": {
        "id": "C2ZG0PkjjFsE",
        "outputId": "a8351977-31a3-495b-d744-153daee930e7",
        "colab": {
          "base_uri": "https://localhost:8080/",
          "height": 176
        }
      },
      "execution_count": null,
      "outputs": [
        {
          "output_type": "error",
          "ename": "NameError",
          "evalue": "name 'model' is not defined",
          "traceback": [
            "\u001b[0;31m---------------------------------------------------------------------------\u001b[0m",
            "\u001b[0;31mNameError\u001b[0m                                 Traceback (most recent call last)",
            "\u001b[0;32m<ipython-input-2-369775851c28>\u001b[0m in \u001b[0;36m<cell line: 44>\u001b[0;34m()\u001b[0m\n\u001b[1;32m     42\u001b[0m \u001b[0;31m# Example usage:\u001b[0m\u001b[0;34m\u001b[0m\u001b[0;34m\u001b[0m\u001b[0m\n\u001b[1;32m     43\u001b[0m \u001b[0mimage_path\u001b[0m \u001b[0;34m=\u001b[0m \u001b[0;34m\"/content/drive/MyDrive/MLProject/Original/Benign/WBC-Benign-003.jpg\"\u001b[0m\u001b[0;34m\u001b[0m\u001b[0;34m\u001b[0m\u001b[0m\n\u001b[0;32m---> 44\u001b[0;31m \u001b[0mplot_attention_heatmap\u001b[0m\u001b[0;34m(\u001b[0m\u001b[0mimage_path\u001b[0m\u001b[0;34m,\u001b[0m \u001b[0mmodel\u001b[0m\u001b[0;34m,\u001b[0m \u001b[0mdevice\u001b[0m\u001b[0;34m)\u001b[0m\u001b[0;34m\u001b[0m\u001b[0;34m\u001b[0m\u001b[0m\n\u001b[0m",
            "\u001b[0;31mNameError\u001b[0m: name 'model' is not defined"
          ]
        }
      ]
    },
    {
      "cell_type": "code",
      "source": [
        "!pip install pillow"
      ],
      "metadata": {
        "colab": {
          "base_uri": "https://localhost:8080/"
        },
        "id": "zxQglqfaAHgW",
        "outputId": "1be3b08b-b580-4a7e-cc9e-294801d2a649"
      },
      "execution_count": null,
      "outputs": [
        {
          "output_type": "stream",
          "name": "stdout",
          "text": [
            "Requirement already satisfied: pillow in /usr/local/lib/python3.10/dist-packages (11.0.0)\n"
          ]
        }
      ]
    },
    {
      "cell_type": "code",
      "source": [
        "from PIL import Image\n",
        "import torchvision.transforms as transforms\n",
        "\n",
        "def preprocess_image(image_path):\n",
        "    \"\"\"Loads and preprocesses an image.\n",
        "\n",
        "    Args:\n",
        "        image_path (str): Path to the image file.\n",
        "\n",
        "    Returns:\n",
        "        torch.Tensor: Preprocessed image tensor.\n",
        "    \"\"\"\n",
        "    # Load the image\n",
        "    img = Image.open(\"/content/drive/MyDrive/MLProject/Original/Benign/WBC-Benign-003.jpg\").convert('RGB')  # Convert to RGB if necessary\n",
        "\n",
        "    # Define the transformations (adjust as needed for your model)\n",
        "    transform = transforms.Compose([\n",
        "        transforms.Resize((224, 224)),  # Resize to the model's input size\n",
        "        transforms.ToTensor(),           # Convert to a PyTorch tensor\n",
        "        transforms.Normalize(mean=[0.485, 0.456, 0.406],  # Normalize with ImageNet stats\n",
        "                             std=[0.229, 0.224, 0.225])\n",
        "    ])\n",
        "\n",
        "    # Apply the transformations\n",
        "    img_tensor = transform(img)\n",
        "\n",
        "    return img_tensor"
      ],
      "metadata": {
        "id": "Y69m3ZjK_ltZ"
      },
      "execution_count": null,
      "outputs": []
    },
    {
      "cell_type": "markdown",
      "source": [
        "Cross-Validation for Robustness"
      ],
      "metadata": {
        "id": "1mH6njgPBDgf"
      }
    },
    {
      "cell_type": "code",
      "source": [
        "import torch\n",
        "from torch.utils.data import DataLoader, SubsetRandomSampler\n",
        "import numpy as np\n",
        "from sklearn.model_selection import StratifiedKFold\n",
        "from sklearn.metrics import precision_score, recall_score, f1_score, roc_auc_score\n",
        "\n",
        "# Define your validate_model function\n",
        "def validate_model(model, val_loader, classes, device):\n",
        "    model.eval()\n",
        "    y_true = []\n",
        "    y_pred = []\n",
        "    y_probs = []\n",
        "\n",
        "    with torch.no_grad():\n",
        "        for inputs, labels in val_loader:\n",
        "            inputs, labels = inputs.to(device), labels.to(device)\n",
        "\n",
        "            outputs = model(inputs)\n",
        "            probs = torch.softmax(outputs, dim=1)\n",
        "\n",
        "            y_true.extend(labels.cpu().numpy())\n",
        "            y_pred.extend(torch.argmax(probs, dim=1).cpu().numpy())\n",
        "            y_probs.extend(probs.cpu().numpy())\n",
        "\n",
        "    y_true = np.array(y_true)\n",
        "    y_pred = np.array(y_pred)\n",
        "    y_probs = np.array(y_probs)\n",
        "\n",
        "    precision = precision_score(y_true, y_pred, average='weighted')\n",
        "    recall = recall_score(y_true, y_pred, average='weighted')\n",
        "    f1 = f1_score(y_true, y_pred, average='weighted')\n",
        "    roc_auc = roc_auc_score(y_true, y_probs, multi_class='ovr', average='weighted')\n",
        "\n",
        "    return precision, recall, f1, roc_auc, y_probs\n",
        "\n",
        "# Define the k-fold validation function\n",
        "def k_fold_validation(model, dataset, k, device, classes):\n",
        "    skf = StratifiedKFold(n_splits=k, shuffle=True, random_state=42)\n",
        "    fold_results = []\n",
        "\n",
        "    for fold, (train_idx, val_idx) in enumerate(skf.split(dataset.data, dataset.targets)):\n",
        "        print(f\"Fold {fold+1}/{k}\")\n",
        "        train_sampler = SubsetRandomSampler(train_idx)\n",
        "        val_sampler = SubsetRandomSampler(val_idx)\n",
        "        train_loader = DataLoader(dataset, sampler=train_sampler, batch_size=32)\n",
        "        val_loader = DataLoader(dataset, sampler=val_sampler, batch_size=32)\n",
        "\n",
        "        # Reset model weights here for each fold\n",
        "        model = YourModel()  # Reinitialize the model\n",
        "        model.to(device)  # Ensure the model is on the correct device\n",
        "\n",
        "        # Train your model here (your training loop should go here)\n",
        "\n",
        "        # Validate and compute metrics\n",
        "        precision, recall, f1, roc_auc, _ = validate_model(model, val_loader, classes, device)\n",
        "        print(f\"Fold {fold+1} - Precision: {precision}, Recall: {recall}, F1: {f1}, ROC-AUC: {roc_auc}\")\n",
        "        fold_results.append((precision, recall, f1, roc_auc))\n",
        "\n",
        "    # Compute average metrics across folds\n",
        "    avg_metrics = np.mean(fold_results, axis=0)\n",
        "    print(f\"Average Precision: {avg_metrics[0]:.4f}, Recall: {avg_metrics[1]:.4f}, F1: {avg_metrics[2]:.4f}, ROC-AUC: {avg_metrics[3]:.4f}\")"
      ],
      "metadata": {
        "id": "rc7URtOjBFKi"
      },
      "execution_count": null,
      "outputs": []
    },
    {
      "cell_type": "code",
      "source": [
        "basePath = '/content/drive/MyDrive/MLProject/model.pt'\n",
        "basePAth2 = '/content/drive/MyDrive/MLProject/optimizer.pt'\n",
        "\n",
        "torch.save(model.state_dict(), basePath)\n",
        "torch.save(optimizer.state_dict(), basePAth2)\n"
      ],
      "metadata": {
        "id": "EoZAaZkMxUwt"
      },
      "execution_count": null,
      "outputs": []
    },
    {
      "cell_type": "markdown",
      "source": [
        "### Making API"
      ],
      "metadata": {
        "id": "rNeftHVAvJOD"
      }
    },
    {
      "cell_type": "code",
      "source": [
        "from google.colab import drive\n",
        "drive.mount('/content/drive')"
      ],
      "metadata": {
        "id": "wBzZ1gOTvH8C",
        "colab": {
          "base_uri": "https://localhost:8080/"
        },
        "outputId": "01985955-12f2-42ac-e296-a7d84329a8bc"
      },
      "execution_count": null,
      "outputs": [
        {
          "output_type": "stream",
          "name": "stdout",
          "text": [
            "Drive already mounted at /content/drive; to attempt to forcibly remount, call drive.mount(\"/content/drive\", force_remount=True).\n"
          ]
        }
      ]
    },
    {
      "cell_type": "code",
      "source": [
        "basePath = '/content/drive/MyDrive/MLProject/model.pt'\n",
        "model_path = \"/content/drive/MyDrive/MLProject/model.pt\""
      ],
      "metadata": {
        "id": "bRkfbtQhwlLi"
      },
      "execution_count": null,
      "outputs": []
    },
    {
      "cell_type": "code",
      "source": [
        "import torch\n",
        "import torchvision\n",
        "from torch import nn\n",
        "import os\n",
        "from torchvision import datasets, transforms\n",
        "from torch.utils.data import DataLoader\n",
        "import time\n",
        "import numpy\n",
        "import os\n",
        "from torch.utils.data import DataLoader\n",
        "import random\n",
        "import zipfile\n",
        "from pathlib import Path\n",
        "import requests\n",
        "import numpy as np\n",
        "from PIL import Image"
      ],
      "metadata": {
        "id": "PWKkuaaYwntE"
      },
      "execution_count": null,
      "outputs": []
    },
    {
      "cell_type": "code",
      "source": [
        "def getViT(seed,classNames,DEVICE):\n",
        "  setAllSeeds(seed)\n",
        "  vitWeights = torchvision.models.ViT_B_16_Weights.DEFAULT\n",
        "  vitTransforms = vitWeights.transforms()\n",
        "  vit = torchvision.models.vit_b_16(weights=vitWeights).to(DEVICE)\n",
        "  for param in vit.parameters():\n",
        "    param.requires_grad = False\n",
        "  vit.heads = nn.Linear(in_features=768, out_features=classNames).to(DEVICE)\n",
        "  return vit,vitTransforms"
      ],
      "metadata": {
        "id": "J8um5jMTyDLR"
      },
      "execution_count": null,
      "outputs": []
    },
    {
      "cell_type": "code",
      "source": [
        "DEVICE = torch.device('cuda:0' if torch.cuda.is_available() else 'cpu')\n",
        "print(DEVICE)"
      ],
      "metadata": {
        "colab": {
          "base_uri": "https://localhost:8080/"
        },
        "id": "prx4fJ1KyDtH",
        "outputId": "4d8a1fb5-fdd0-4feb-ab7f-a6a84b1dc8de"
      },
      "execution_count": null,
      "outputs": [
        {
          "output_type": "stream",
          "name": "stdout",
          "text": [
            "cuda:0\n"
          ]
        }
      ]
    },
    {
      "cell_type": "code",
      "source": [
        "def setAllSeeds(seed):\n",
        "  os.environ['MY_GLOBAL_SEED'] = str(seed)\n",
        "  random.seed(seed)\n",
        "  np.random.seed(seed)\n",
        "  torch.manual_seed(seed)\n",
        "  torch.cuda.manual_seed_all(seed)"
      ],
      "metadata": {
        "id": "tCa64uCEynf-"
      },
      "execution_count": null,
      "outputs": []
    },
    {
      "cell_type": "code",
      "source": [
        "model, transformers = getViT(42,4, DEVICE)"
      ],
      "metadata": {
        "id": "M0Fj4qG8yD17"
      },
      "execution_count": null,
      "outputs": []
    },
    {
      "cell_type": "code",
      "source": [],
      "metadata": {
        "id": "99Jqe_xJyD7F"
      },
      "execution_count": null,
      "outputs": []
    },
    {
      "cell_type": "code",
      "source": [
        "#  loading the model\n",
        "model.load_state_dict(torch.load(model_path, map_location=torch.device('cpu')))"
      ],
      "metadata": {
        "colab": {
          "base_uri": "https://localhost:8080/"
        },
        "id": "CsN11LGuw5qS",
        "outputId": "f15b3302-50dc-4b79-8270-c96398daf8d0"
      },
      "execution_count": null,
      "outputs": [
        {
          "output_type": "stream",
          "name": "stderr",
          "text": [
            "<ipython-input-43-6ab46de6ea55>:2: FutureWarning: You are using `torch.load` with `weights_only=False` (the current default value), which uses the default pickle module implicitly. It is possible to construct malicious pickle data which will execute arbitrary code during unpickling (See https://github.com/pytorch/pytorch/blob/main/SECURITY.md#untrusted-models for more details). In a future release, the default value for `weights_only` will be flipped to `True`. This limits the functions that could be executed during unpickling. Arbitrary objects will no longer be allowed to be loaded via this mode unless they are explicitly allowlisted by the user via `torch.serialization.add_safe_globals`. We recommend you start setting `weights_only=True` for any use case where you don't have full control of the loaded file. Please open an issue on GitHub for any issues related to this experimental feature.\n",
            "  model.load_state_dict(torch.load(model_path, map_location=torch.device('cpu')))\n"
          ]
        },
        {
          "output_type": "execute_result",
          "data": {
            "text/plain": [
              "<All keys matched successfully>"
            ]
          },
          "metadata": {},
          "execution_count": 43
        }
      ]
    },
    {
      "cell_type": "code",
      "source": [
        "# defining the image transformation\n",
        "\n",
        "def img_transform(input_img):\n",
        "  mean = [0.5, 0.5, 0.5]\n",
        "  std = [0.5, 0.5, 0.5]\n",
        "\n",
        "  img_transforms = transforms.Compose([\n",
        "                                        transforms.Resize((224,224)),\n",
        "                                        # transforms.RandomHorizontalFlip(),\n",
        "                                        transforms.RandomRotation(10),\n",
        "                                        transforms.Resize((224,224)),\n",
        "                                        transforms.ToTensor(),\n",
        "                                        transforms.Normalize(torch.Tensor(mean), torch.Tensor(std))])\n",
        "  img_bytes = input_img.file.read()\n",
        "  img = Image.open(io.BytesIO(img_bytes))\n",
        "  # encoded image\n",
        "  encoded_string = base64.b64encode(img_bytes)\n",
        "  bs64 = encoded_string.decode('utf-8')\n",
        "  encoded_img = f'data:image/jpeg;base64,{bs64}'\n",
        "  tensor_img = img_transforms(img).unsqueeze(0)\n",
        "  return encoded_img, tensor_img"
      ],
      "metadata": {
        "id": "9dshnLsAy0jF"
      },
      "execution_count": null,
      "outputs": []
    },
    {
      "cell_type": "code",
      "source": [
        "def preprocess_image(image_path):\n",
        "    # Load the image\n",
        "    image = Image.open(image_path).convert(\"RGB\")\n",
        "    # Apply the transformations\n",
        "    transformed_image = img_transform(image)\n",
        "    # Add a batch dimension\n",
        "    transformed_image = transformed_image.unsqueeze(0)  # Shape: [1, 3, 224, 224]\n",
        "    return transformed_image"
      ],
      "metadata": {
        "id": "auiOWr5azFsh"
      },
      "execution_count": null,
      "outputs": []
    },
    {
      "cell_type": "markdown",
      "source": [
        "### Testing with a sample image:\n",
        "![WBC-Benign-003.jpg](data:image/jpeg;base64,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)"
      ],
      "metadata": {
        "id": "vFMkVmgM4tut"
      }
    },
    {
      "cell_type": "code",
      "source": [
        "\n",
        "samp_img_path= \"/content/drive/MyDrive/MLProject/Original/Benign/WBC-Benign-003.jpg\"\n",
        "t_img = preprocess_image(samp_img_path)\n",
        "print(t_img.shape)"
      ],
      "metadata": {
        "id": "Ote3FPY5zuqD"
      },
      "execution_count": null,
      "outputs": []
    },
    {
      "cell_type": "code",
      "source": [
        "# set model to evaluation mode\n",
        "preds = model(t_img)\n",
        "print(preds)"
      ],
      "metadata": {
        "colab": {
          "base_uri": "https://localhost:8080/"
        },
        "id": "L8z256WR0Hyy",
        "outputId": "2c66929f-29b7-4c5f-97c6-57120200dcee"
      },
      "execution_count": null,
      "outputs": [
        {
          "output_type": "stream",
          "name": "stdout",
          "text": [
            "tensor([[ 33.3619,   0.2205, -22.8135, -10.8008]], grad_fn=<AddmmBackward0>)\n"
          ]
        }
      ]
    },
    {
      "cell_type": "code",
      "source": [
        "predicted_class = torch.argmax(preds)\n",
        "print(f\"The predicted class is {predicted_class}\")"
      ],
      "metadata": {
        "colab": {
          "base_uri": "https://localhost:8080/"
        },
        "id": "HRqiTsnf0aXw",
        "outputId": "0745e81a-946f-4cbc-928d-b341b87b4332"
      },
      "execution_count": null,
      "outputs": [
        {
          "output_type": "stream",
          "name": "stdout",
          "text": [
            "The predicted class is 0\n"
          ]
        }
      ]
    },
    {
      "cell_type": "code",
      "source": [
        "# image classes\n",
        "classes = ['BENIGN', 'EARLY', 'PRE', 'PRO']\n",
        "class_name = classes[predicted_class]\n",
        "print(f\"The predicted class is {class_name}\")"
      ],
      "metadata": {
        "colab": {
          "base_uri": "https://localhost:8080/"
        },
        "id": "-Ddifo6I0lTO",
        "outputId": "5af5f861-db82-4731-f400-7170d344733d"
      },
      "execution_count": null,
      "outputs": [
        {
          "output_type": "stream",
          "name": "stdout",
          "text": [
            "The predicted class is BENIGN\n"
          ]
        }
      ]
    },
    {
      "cell_type": "code",
      "source": [
        "# function to predict input image\n",
        "def predict(input_img):\n",
        "    model.eval()\n",
        "    with torch.no_grad():\n",
        "        input_img = preprocess_image(input_img)\n",
        "        preds = model(input_img)\n",
        "        predicted_class = torch.argmax(preds)\n",
        "        class_name = classes[predicted_class]\n",
        "        return class_name\n",
        "\n",
        "# test here\n",
        "samp_img_path= \"/content/drive/MyDrive/MLProject/Original/Benign/WBC-Benign-003.jpg\"\n",
        "cancer_status = predict(samp_img_path)\n",
        "print(f\"The predicted class is {cancer_status}\")"
      ],
      "metadata": {
        "colab": {
          "base_uri": "https://localhost:8080/"
        },
        "id": "FHMTwwSI08Sk",
        "outputId": "fe8e8128-c8b5-4358-813d-f5ad4b077d58"
      },
      "execution_count": null,
      "outputs": [
        {
          "output_type": "stream",
          "name": "stdout",
          "text": [
            "The predicted class is BENIGN\n"
          ]
        }
      ]
    },
    {
      "cell_type": "code",
      "source": [
        "# function to predict input image\n",
        "def get_prediction(input_img, is_api = False):\n",
        "  inp_img, encoded_img = img_transform(input_img)\n",
        "  model.eval()\n",
        "  with torch.no_grad():\n",
        "      preds = model(input_img)\n",
        "      predicted_class = torch.argmax(preds)\n",
        "      class_name = classes[predicted_class]\n",
        "\n",
        "  pred_results = {\n",
        "            \"class_name\": class_name,\n",
        "        }\n",
        "\n",
        "  # conditionally add image data to the result dictionary\n",
        "  if not is_api:\n",
        "      pred_results[\"encoded_img\"] = encoded_img\n",
        "\n",
        "  return pred_results\n",
        "\n"
      ],
      "metadata": {
        "id": "ULXT10tt1oTV"
      },
      "execution_count": null,
      "outputs": []
    },
    {
      "cell_type": "code",
      "source": [
        "ef getViT(seed,classNames,DEVICE):\n",
        "  setAllSeeds(seed)\n",
        "  vitWeights = torchvision.models.ViT_B_16_Weights.DEFAULT\n",
        "  vitTransforms = vitWeights.transforms()\n",
        "  vit = torchvision.models.vit_b_16(weights=vitWeights).to(DEVICE)\n",
        "  for param in vit.parameters():\n",
        "    param.requires_grad = False\n",
        "  vit.heads = nn.Linear(in_features=768, out_features=classNames).to(DEVICE)\n",
        "  return vit,vitTransforms\n",
        "\n",
        "\n"
      ],
      "metadata": {
        "id": "HgXa29VMOLi_"
      },
      "execution_count": null,
      "outputs": []
    },
    {
      "cell_type": "markdown",
      "source": [
        "©Developed by,\n",
        "* Lakshmipathi Rao Kocherlakota 21BCE8552\n",
        "* Mahatir Ahmed Tusher 21BCE8971\n",
        "* Sree Nikhil Velicheti 21BCE7775\n",
        "* Saket Choudary Kongara  21BCE7918\n"
      ],
      "metadata": {
        "id": "q9B4xmvv5R9R"
      }
    }
  ]
}